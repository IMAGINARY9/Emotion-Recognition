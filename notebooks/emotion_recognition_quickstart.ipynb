{
 "cells": [
  {
   "cell_type": "markdown",
   "id": "4cf48812",
   "metadata": {},
   "source": [
    "# Emotion Recognition - Quick Start Guide\n",
    "\n",
    "This notebook demonstrates how to use the Emotion Recognition system for text classification.\n",
    "\n",
    "## Setup"
   ]
  },
  {
   "cell_type": "code",
   "execution_count": null,
   "id": "24e77647",
   "metadata": {},
   "outputs": [],
   "source": [
    "# Import required libraries\n",
    "import sys\n",
    "import os\n",
    "from pathlib import Path\n",
    "\n",
    "# Add src to path\n",
    "sys.path.append(str(Path.cwd().parent / \"src\"))\n",
    "\n",
    "import torch\n",
    "import pandas as pd\n",
    "import matplotlib.pyplot as plt\n",
    "import seaborn as sns\n",
    "\n",
    "# Import emotion recognition modules\n",
    "from data_utils import EmotionDataLoader, download_sample_data\n",
    "from preprocessing import EmotionPreprocessor\n",
    "from models import create_model, EmotionPredictor\n",
    "from config import ConfigManager\n",
    "\n",
    "print(\"✅ Imports successful!\")"
   ]
  },
  {
   "cell_type": "markdown",
   "id": "fa270cee",
   "metadata": {},
   "source": [
    "## 1. Create Sample Data\n",
    "\n",
    "Let's create some sample emotion data to work with:"
   ]
  },
  {
   "cell_type": "code",
   "execution_count": null,
   "id": "032a184b",
   "metadata": {},
   "outputs": [],
   "source": [
    "# Create sample data\n",
    "data_dir = \"../data/raw\"\n",
    "os.makedirs(data_dir, exist_ok=True)\n",
    "\n",
    "sample_file = download_sample_data(data_dir)\n",
    "print(f\"Created sample data: {sample_file}\")\n",
    "\n",
    "# Load and examine the data\n",
    "df = pd.read_csv(sample_file)\n",
    "print(f\"\\nDataset shape: {df.shape}\")\n",
    "print(\"\\nFirst 5 rows:\")\n",
    "print(df.head())\n",
    "\n",
    "# Check emotion distribution\n",
    "emotion_counts = df['label'].value_counts()\n",
    "print(\"\\nEmotion distribution:\")\n",
    "print(emotion_counts)"
   ]
  },
  {
   "cell_type": "code",
   "execution_count": null,
   "id": "3c8deabf",
   "metadata": {},
   "outputs": [],
   "source": [
    "# Visualize emotion distribution\n",
    "plt.figure(figsize=(10, 6))\n",
    "sns.countplot(data=df, x='label', order=emotion_counts.index)\n",
    "plt.title('Emotion Distribution in Sample Dataset')\n",
    "plt.xlabel('Emotion')\n",
    "plt.ylabel('Count')\n",
    "plt.xticks(rotation=45)\n",
    "plt.tight_layout()\n",
    "plt.show()"
   ]
  },
  {
   "cell_type": "markdown",
   "id": "f7ab4b02",
   "metadata": {},
   "source": [
    "## 2. Text Preprocessing\n",
    "\n",
    "Let's explore the preprocessing capabilities:"
   ]
  },
  {
   "cell_type": "code",
   "execution_count": null,
   "id": "33230721",
   "metadata": {},
   "outputs": [],
   "source": [
    "# Create preprocessor\n",
    "preprocessor = EmotionPreprocessor(\n",
    "    lowercase=True,\n",
    "    remove_urls=True,\n",
    "    remove_mentions=True,\n",
    "    emoji_handling=\"convert\",\n",
    "    expand_contractions=True\n",
    ")\n",
    "\n",
    "# Test preprocessing on sample texts\n",
    "test_texts = [\n",
    "    \"I'm SO HAPPY today! 😊 Check out https://example.com @friend\",\n",
    "    \"Can't believe this happened... I don't like it 😢\",\n",
    "    \"#GreatNews! We won't give up! 🎉\"\n",
    "]\n",
    "\n",
    "print(\"Preprocessing Examples:\")\n",
    "print(\"=\" * 50)\n",
    "\n",
    "for i, text in enumerate(test_texts, 1):\n",
    "    processed = preprocessor.preprocess(text)\n",
    "    print(f\"\\nExample {i}:\")\n",
    "    print(f\"Original:  {text}\")\n",
    "    print(f\"Processed: {processed}\")"
   ]
  },
  {
   "cell_type": "markdown",
   "id": "be4c4fb4",
   "metadata": {},
   "source": [
    "## 3. Load Pre-trained Model (Simulation)\n",
    "\n",
    "Since we don't have a trained model yet, let's show how you would load and use one:"
   ]
  },
  {
   "cell_type": "code",
   "execution_count": null,
   "id": "a6f38e57",
   "metadata": {},
   "outputs": [],
   "source": [
    "# Load configuration\n",
    "config_manager = ConfigManager()\n",
    "config = config_manager.load_model_config(\"distilbert\")\n",
    "\n",
    "print(\"Model Configuration:\")\n",
    "print(f\"Model Type: {config.model.type}\")\n",
    "print(f\"Number of Classes: {config.model.num_classes}\")\n",
    "print(f\"Max Length: {config.model.max_length}\")\n",
    "print(f\"Dropout Rate: {config.model.dropout_rate}\")\n",
    "\n",
    "print(\"\\nTraining Configuration:\")\n",
    "print(f\"Batch Size: {config.training.batch_size}\")\n",
    "print(f\"Learning Rate: {config.training.learning_rate}\")\n",
    "print(f\"Number of Epochs: {config.training.num_epochs}\")\n",
    "\n",
    "print(\"\\nSupported Emotions:\")\n",
    "print(config.emotions)"
   ]
  },
  {
   "cell_type": "code",
   "execution_count": null,
   "id": "03e849eb",
   "metadata": {},
   "outputs": [],
   "source": [
    "# Create model (for demonstration)\n",
    "model = create_model(\n",
    "    model_type=\"distilbert\",\n",
    "    num_classes=6,\n",
    "    dropout_rate=0.3\n",
    ")\n",
    "\n",
    "print(f\"Created model: {type(model).__name__}\")\n",
    "print(f\"Number of parameters: {sum(p.numel() for p in model.parameters()):,}\")\n",
    "print(f\"Trainable parameters: {sum(p.numel() for p in model.parameters() if p.requires_grad):,}\")"
   ]
  },
  {
   "cell_type": "markdown",
   "id": "729c2ea1",
   "metadata": {},
   "source": [
    "## 4. Data Loading and Preparation"
   ]
  },
  {
   "cell_type": "code",
   "execution_count": null,
   "id": "91c0f045",
   "metadata": {},
   "outputs": [],
   "source": [
    "# Initialize data loader\n",
    "data_loader = EmotionDataLoader(\"../data\")\n",
    "\n",
    "# Load and validate data\n",
    "df = data_loader.load_csv_data(sample_file)\n",
    "df = data_loader.validate_data(df)\n",
    "\n",
    "print(f\"Validated dataset: {len(df)} samples\")\n",
    "\n",
    "# Split data\n",
    "train_df, val_df, test_df = data_loader.split_data(\n",
    "    df,\n",
    "    train_size=0.7,\n",
    "    val_size=0.15,\n",
    "    test_size=0.15,\n",
    "    random_state=42\n",
    ")\n",
    "\n",
    "print(f\"\\nData splits:\")\n",
    "print(f\"Training: {len(train_df)} samples\")\n",
    "print(f\"Validation: {len(val_df)} samples\")\n",
    "print(f\"Test: {len(test_df)} samples\")\n",
    "\n",
    "# Show class distribution in training set\n",
    "train_dist = train_df['label'].value_counts()\n",
    "print(\"\\nTraining set emotion distribution:\")\n",
    "for emotion, count in train_dist.items():\n",
    "    percentage = (count / len(train_df)) * 100\n",
    "    print(f\"{emotion}: {count} ({percentage:.1f}%)\")"
   ]
  },
  {
   "cell_type": "markdown",
   "id": "f5ee6cfc",
   "metadata": {},
   "source": [
    "## 5. Training Command Examples\n",
    "\n",
    "Here are the commands you would use to train models:"
   ]
  },
  {
   "cell_type": "code",
   "execution_count": null,
   "id": "a5fdeac7",
   "metadata": {},
   "outputs": [],
   "source": [
    "print(\"Training Command Examples:\")\n",
    "print(\"=\" * 50)\n",
    "\n",
    "commands = [\n",
    "    \"# Train DistilBERT model with sample data\",\n",
    "    \"python scripts/train.py --config distilbert --use-sample-data --experiment-name distilbert_sample\",\n",
    "    \"\",\n",
    "    \"# Train Twitter RoBERTa model\", \n",
    "    \"python scripts/train.py --config twitter_roberta --data-path data/emotions.csv --epochs 8\",\n",
    "    \"\",\n",
    "    \"# Train BiLSTM model with custom parameters\",\n",
    "    \"python scripts/train.py --config bilstm --batch-size 64 --learning-rate 0.001 --epochs 15\",\n",
    "    \"\",\n",
    "    \"# Train ensemble model\",\n",
    "    \"python scripts/train.py --config ensemble --data-path data/emotions.csv --experiment-name ensemble_model\"\n",
    "]\n",
    "\n",
    "for cmd in commands:\n",
    "    print(cmd)"
   ]
  },
  {
   "cell_type": "markdown",
   "id": "93bd9f76",
   "metadata": {},
   "source": [
    "## 6. Prediction Examples\n",
    "\n",
    "Examples of how to make predictions with trained models:"
   ]
  },
  {
   "cell_type": "code",
   "execution_count": null,
   "id": "5cf4f7ab",
   "metadata": {},
   "outputs": [],
   "source": [
    "print(\"Prediction Command Examples:\")\n",
    "print(\"=\" * 50)\n",
    "\n",
    "prediction_commands = [\n",
    "    \"# Single text prediction\",\n",
    "    'python scripts/predict.py -m outputs/my_model -t \"I love this amazing day!\"',\n",
    "    \"\",\n",
    "    \"# Batch prediction from file\",\n",
    "    \"python scripts/predict.py -m outputs/my_model --text-file input_texts.txt -o predictions.json\",\n",
    "    \"\",\n",
    "    \"# CSV file prediction with probabilities\",\n",
    "    \"python scripts/predict.py -m outputs/my_model --csv-file data.csv --include-probabilities -o results.csv\",\n",
    "    \"\",\n",
    "    \"# Top-3 predictions\",\n",
    "    \"python scripts/predict.py -m outputs/my_model -t \\\"Mixed emotions text\\\" --top-k 3 --include-probabilities\"\n",
    "]\n",
    "\n",
    "for cmd in prediction_commands:\n",
    "    print(cmd)"
   ]
  },
  {
   "cell_type": "markdown",
   "id": "4dbc44c7",
   "metadata": {},
   "source": [
    "## 7. Evaluation Examples"
   ]
  },
  {
   "cell_type": "code",
   "execution_count": null,
   "id": "d187fd85",
   "metadata": {},
   "outputs": [],
   "source": [
    "print(\"Evaluation Command Examples:\")\n",
    "print(\"=\" * 50)\n",
    "\n",
    "eval_commands = [\n",
    "    \"# Basic evaluation\",\n",
    "    \"python scripts/evaluate.py -m outputs/my_model --output-dir evaluation_results\",\n",
    "    \"\",\n",
    "    \"# Evaluation with error analysis\",\n",
    "    \"python scripts/evaluate.py -m outputs/my_model --error-analysis --save-predictions\",\n",
    "    \"\",\n",
    "    \"# Evaluate on custom test data\",\n",
    "    \"python scripts/evaluate.py -m outputs/my_model --data-path test_data.csv --output-dir custom_eval\",\n",
    "    \"\",\n",
    "    \"# Quick evaluation without plots\",\n",
    "    \"python scripts/evaluate.py -m outputs/my_model --no-plots --batch-size 128\"\n",
    "]\n",
    "\n",
    "for cmd in eval_commands:\n",
    "    print(cmd)"
   ]
  },
  {
   "cell_type": "markdown",
   "id": "54293aba",
   "metadata": {},
   "source": [
    "## 8. Python API Usage\n",
    "\n",
    "How to use the emotion recognition system directly in Python:"
   ]
  },
  {
   "cell_type": "code",
   "execution_count": null,
   "id": "34d2f3b3",
   "metadata": {},
   "outputs": [],
   "source": [
    "# Example: Using the quick_predict function (when you have a trained model)\n",
    "# Note: This would work with an actual trained model\n",
    "\n",
    "print(\"Python API Usage Examples:\")\n",
    "print(\"=\" * 30)\n",
    "\n",
    "api_examples = '''\n",
    "# Quick prediction (simplest approach)\n",
    "from src import quick_predict\n",
    "\n",
    "result = quick_predict(\"I love this amazing day!\", \"outputs/my_model\")\n",
    "print(result)  # Output: \"joy\"\n",
    "\n",
    "# Advanced usage with custom preprocessor\n",
    "from src import EmotionPreprocessor, EmotionPredictor, create_model\n",
    "\n",
    "# Create components\n",
    "preprocessor = EmotionPreprocessor(emoji_handling=\"convert\")\n",
    "model = create_model(\"distilbert\", num_classes=6)\n",
    "predictor = EmotionPredictor(\n",
    "    model=model,\n",
    "    preprocessor=preprocessor,\n",
    "    emotion_labels=[\"sadness\", \"joy\", \"love\", \"anger\", \"fear\", \"surprise\"]\n",
    ")\n",
    "\n",
    "# Make predictions\n",
    "result = predictor.predict(\"I\\'m so excited! 🎉\")\n",
    "print(result)  # Output: emotion prediction\n",
    "\n",
    "# Batch predictions\n",
    "texts = [\"I love this!\", \"This is frustrating\", \"What a surprise!\"]\n",
    "results = predictor.predict_batch(texts, return_probabilities=True)\n",
    "for text, result in zip(texts, results):\n",
    "    print(f\"Text: {text}\")\n",
    "    print(f\"Emotion: {result['emotion']} (confidence: {result['probability']:.3f})\")\n",
    "'''\n",
    "\n",
    "print(api_examples)"
   ]
  },
  {
   "cell_type": "markdown",
   "id": "d4e75444",
   "metadata": {},
   "source": [
    "## 9. Configuration Customization"
   ]
  },
  {
   "cell_type": "code",
   "execution_count": null,
   "id": "ef0fe4bf",
   "metadata": {},
   "outputs": [],
   "source": [
    "# Show how to customize configurations\n",
    "print(\"Configuration Customization Examples:\")\n",
    "print(\"=\" * 40)\n",
    "\n",
    "config_examples = '''\n",
    "# Create custom configuration\n",
    "custom_config = {\n",
    "    \"model\": {\n",
    "        \"type\": \"distilbert\",\n",
    "        \"num_classes\": 6,\n",
    "        \"max_length\": 256,  # Longer sequences\n",
    "        \"dropout_rate\": 0.2  # Lower dropout\n",
    "    },\n",
    "    \"training\": {\n",
    "        \"batch_size\": 16,   # Smaller batches\n",
    "        \"learning_rate\": 1e-5,  # Lower learning rate\n",
    "        \"num_epochs\": 15,   # More epochs\n",
    "        \"early_stopping\": {\n",
    "            \"enabled\": True,\n",
    "            \"patience\": 5\n",
    "        }\n",
    "    },\n",
    "    \"preprocessing\": {\n",
    "        \"lowercase\": True,\n",
    "        \"emoji_handling\": \"keep\",  # Keep emojis\n",
    "        \"remove_urls\": False       # Keep URLs\n",
    "    }\n",
    "}\n",
    "\n",
    "# Save custom config\n",
    "import yaml\n",
    "with open(\"my_custom_config.yaml\", \"w\") as f:\n",
    "    yaml.dump(custom_config, f)\n",
    "\n",
    "# Use custom config\n",
    "# python scripts/train.py --config-file my_custom_config.yaml\n",
    "'''\n",
    "\n",
    "print(config_examples)"
   ]
  },
  {
   "cell_type": "markdown",
   "id": "db22ed08",
   "metadata": {},
   "source": [
    "## 10. Next Steps\n",
    "\n",
    "To actually train and use models:\n",
    "\n",
    "1. **Prepare your data**: Create a CSV file with 'text' and 'label' columns\n",
    "2. **Choose a model**: Select from distilbert, twitter_roberta, bilstm, or ensemble\n",
    "3. **Train the model**: Use the training script with your data\n",
    "4. **Evaluate performance**: Use the evaluation script to assess model quality\n",
    "5. **Make predictions**: Use the trained model for emotion classification\n",
    "\n",
    "### Training Command:\n",
    "```bash\n",
    "python scripts/train.py --config distilbert --data-path your_data.csv --experiment-name my_experiment\n",
    "```\n",
    "\n",
    "### Prediction Command:\n",
    "```bash\n",
    "python scripts/predict.py -m outputs/my_experiment -t \"Your text here\"\n",
    "```\n",
    "\n",
    "Happy emotion recognition! 😊"
   ]
  }
 ],
 "metadata": {
  "language_info": {
   "name": "python"
  }
 },
 "nbformat": 4,
 "nbformat_minor": 5
}
